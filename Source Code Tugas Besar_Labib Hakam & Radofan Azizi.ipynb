{
  "nbformat": 4,
  "nbformat_minor": 0,
  "metadata": {
    "colab": {
      "provenance": []
    },
    "kernelspec": {
      "name": "python3",
      "display_name": "Python 3"
    },
    "language_info": {
      "name": "python"
    }
  },
  "cells": [
    {
      "cell_type": "markdown",
      "source": [
        "Brute Force"
      ],
      "metadata": {
        "id": "nmZCWz1vcnmt"
      }
    },
    {
      "cell_type": "code",
      "execution_count": null,
      "metadata": {
        "colab": {
          "base_uri": "https://localhost:8080/"
        },
        "id": "0Z7Akx0TozqC",
        "outputId": "1a18a118-d6b3-4f9d-a935-a1fff7ab1078"
      },
      "outputs": [
        {
          "output_type": "stream",
          "name": "stdout",
          "text": [
            "K = 6: \n",
            " 0 15  6 25 10 13\n",
            "33 24 11 14  5 26\n",
            "16  1 32  7 12  9\n",
            "31 34 23 20 27  4\n",
            "22 17  2 29  8 19\n",
            "35 30 21 18  3 28\n",
            "Time taken: 0.7354745864868164 seconds\n",
            "K = 8: \n",
            " 0 59 38 33 30 17  8 63\n",
            "37 34 31 60  9 62 29 16\n",
            "58  1 36 39 32 27 18  7\n",
            "35 48 41 26 61 10 15 28\n",
            "42 57  2 49 40 23  6 19\n",
            "47 50 45 54 25 20 11 14\n",
            "56 43 52  3 22 13 24  5\n",
            "51 46 55 44 53  4 21 12\n",
            "Time taken: 26.856137990951538 seconds\n"
          ]
        }
      ],
      "source": [
        "import time\n",
        "\n",
        "def is_valid(x, y, board_size):\n",
        "    return 0 <= x < board_size and 0 <= y < board_size\n",
        "\n",
        "def print_board(board):\n",
        "    for row in board:\n",
        "        print(' '.join(str(cell).rjust(2, ' ') for cell in row))\n",
        "\n",
        "def knight_tour_brute_force(board_size):\n",
        "    board = [[-1 for _ in range(board_size)] for _ in range(board_size)]\n",
        "    moves_x = [2, 1, -1, -2, -2, -1, 1, 2]\n",
        "    moves_y = [1, 2, 2, 1, -1, -2, -2, -1]\n",
        "\n",
        "    start_time = time.time()  # Start time\n",
        "\n",
        "    def solve(x, y, move_count):\n",
        "        if move_count == board_size * board_size:\n",
        "            return True\n",
        "\n",
        "        for i in range(8):\n",
        "            next_x = x + moves_x[i]\n",
        "            next_y = y + moves_y[i]\n",
        "            if is_valid(next_x, next_y, board_size) and board[next_x][next_y] == -1:\n",
        "                board[next_x][next_y] = move_count\n",
        "                if solve(next_x, next_y, move_count + 1):\n",
        "                    return True\n",
        "                board[next_x][next_y] = -1\n",
        "        return False\n",
        "\n",
        "    board[0][0] = 0  # Starting from the first cell\n",
        "\n",
        "    if solve(0, 0, 1):\n",
        "        pass\n",
        "        print_board(board)\n",
        "    else:\n",
        "        print(\"No solution exists\")\n",
        "\n",
        "    end_time = time.time()  #End time\n",
        "    print(\"Time taken:\", end_time - start_time, \"seconds\")\n",
        "\n",
        "# Run the brute force solution\n",
        "print(\"K = 6: \")\n",
        "knight_tour_brute_force(6)\n",
        "\n",
        "print(\"K = 8: \")\n",
        "knight_tour_brute_force(8)"
      ]
    },
    {
      "cell_type": "markdown",
      "source": [
        "New Brute Force"
      ],
      "metadata": {
        "id": "i2PpcrQtcsQk"
      }
    },
    {
      "cell_type": "code",
      "source": [
        "import time\n",
        "\n",
        "def is_valid(x, y, board_size):\n",
        "    return 0 <= x < board_size and 0 <= y < board_size\n",
        "\n",
        "def print_board(board):\n",
        "    for row in board:\n",
        "        print(' '.join(str(cell).rjust(2, ' ') for cell in row))\n",
        "\n",
        "def knight_tour_brute_force(board_size):\n",
        "    board = [[-1 for _ in range(board_size)] for _ in range(board_size)]\n",
        "    moves_x = [2, 1, -1, -2, -2, -1, 1, 2]\n",
        "    moves_y = [1, 2, 2, 1, -1, -2, -2, -1]\n",
        "\n",
        "    start_time = time.time()  # Start time\n",
        "\n",
        "    def count_possible_moves(x, y):\n",
        "        count = 0\n",
        "        for i in range(8):\n",
        "            next_x = x + moves_x[i]\n",
        "            next_y = y + moves_y[i]\n",
        "            if is_valid(next_x, next_y, board_size) and board[next_x][next_y] == -1:\n",
        "                count += 1\n",
        "        return count\n",
        "\n",
        "    def solve(x, y, move_count):\n",
        "        if move_count == board_size * board_size:\n",
        "            return True\n",
        "\n",
        "        possible_moves = []\n",
        "        for i in range(8):\n",
        "            next_x = x + moves_x[i]\n",
        "            next_y = y + moves_y[i]\n",
        "            if is_valid(next_x, next_y, board_size) and board[next_x][next_y] == -1:\n",
        "                possible_moves.append((count_possible_moves(next_x, next_y), next_x, next_y))\n",
        "\n",
        "        # Sort moves based on the number of onward moves (Warnsdorff's Rule)\n",
        "        possible_moves.sort(key=lambda move: move[0])\n",
        "\n",
        "        for move in possible_moves:\n",
        "            _, next_x, next_y = move\n",
        "            board[next_x][next_y] = move_count\n",
        "            if solve(next_x, next_y, move_count + 1):\n",
        "                return True\n",
        "            board[next_x][next_y] = -1\n",
        "        return False\n",
        "\n",
        "    board[0][0] = 0  # Starting from the first cell\n",
        "    if solve(0, 0, 1):\n",
        "        pass\n",
        "        print_board(board)\n",
        "    else:\n",
        "        print(\"No solution exists\")\n",
        "\n",
        "    end_time = time.time()  # End time\n",
        "    print(\"Time taken:\", end_time - start_time, \"seconds\")\n",
        "\n",
        "# Run the brute force solution\n",
        "print(\"K = 6: \")\n",
        "knight_tour_brute_force(6)\n",
        "\n",
        "print(\"K = 8: \")\n",
        "knight_tour_brute_force(8)"
      ],
      "metadata": {
        "id": "sY8ZNbqHcuej",
        "colab": {
          "base_uri": "https://localhost:8080/"
        },
        "outputId": "317d149f-9216-476b-fa89-cdf766351a05"
      },
      "execution_count": null,
      "outputs": [
        {
          "output_type": "stream",
          "name": "stdout",
          "text": [
            "K = 6: \n",
            " 0  9 18 25  6 11\n",
            "19 26  7 10 17 24\n",
            " 8  1 30 23 12  5\n",
            "35 20 27 14 31 16\n",
            " 2 29 22 33  4 13\n",
            "21 34  3 28 15 32\n",
            "Time taken: 0.0028138160705566406 seconds\n",
            "K = 8: \n",
            " 0 33  2 17 48 31 12 15\n",
            " 3 18 55 32 13 16 49 30\n",
            "56  1 34 47 54 51 14 11\n",
            "19  4 59 52 35 46 29 50\n",
            "40 57 36 45 60 53 10 25\n",
            " 5 20 41 58 37 26 63 28\n",
            "42 39 22  7 44 61 24  9\n",
            "21  6 43 38 23  8 27 62\n",
            "Time taken: 0.0011491775512695312 seconds\n"
          ]
        }
      ]
    },
    {
      "cell_type": "markdown",
      "source": [
        "Backtracking"
      ],
      "metadata": {
        "id": "K3z4Qzi2cvHe"
      }
    },
    {
      "cell_type": "code",
      "source": [
        "import time\n",
        "\n",
        "def is_valid(x, y, board, board_size):\n",
        "    return 0 <= x < board_size and 0 <= y < board_size and board[x][y] == -1\n",
        "\n",
        "def print_board(board):\n",
        "    for row in board:\n",
        "        print(' '.join(str(cell).rjust(2, ' ') for cell in row))\n",
        "\n",
        "def knight_tour_backtracking(board_size):\n",
        "    board = [[-1 for _ in range(board_size)] for _ in range(board_size)]\n",
        "    moves_x = [2, 1, -1, -2, -2, -1, 1, 2]\n",
        "    moves_y = [1, 2, 2, 1, -1, -2, -2, -1]\n",
        "\n",
        "    start_time = time.time()  # Start time\n",
        "\n",
        "    def solve(x, y, move_count):\n",
        "        if move_count == board_size * board_size:\n",
        "            return True\n",
        "\n",
        "        for i in range(8):\n",
        "            next_x = x + moves_x[i]\n",
        "            next_y = y + moves_y[i]\n",
        "            if is_valid(next_x, next_y, board, board_size):\n",
        "                board[next_x][next_y] = move_count\n",
        "                if solve(next_x, next_y, move_count + 1):\n",
        "                    return True\n",
        "                board[next_x][next_y] = -1\n",
        "        return False\n",
        "\n",
        "    board[0][0] = 0  # Starting from the first cell\n",
        "    if solve(0, 0, 1):\n",
        "        pass\n",
        "        print_board(board)\n",
        "    else:\n",
        "        print(\"No solution exists\")\n",
        "\n",
        "    end_time = time.time()  # End time\n",
        "    print(\"Time taken:\", end_time - start_time, \"seconds\")\n",
        "\n",
        "# Run the brute force solution\n",
        "print(\"K = 6: \")\n",
        "knight_tour_backtracking(6)\n",
        "\n",
        "print(\"K = 8: \")\n",
        "knight_tour_backtracking(8)"
      ],
      "metadata": {
        "id": "Aui1h7zDabAM",
        "colab": {
          "base_uri": "https://localhost:8080/"
        },
        "outputId": "a609efb4-c2fc-49a7-bd29-b90b31cdf663"
      },
      "execution_count": null,
      "outputs": [
        {
          "output_type": "stream",
          "name": "stdout",
          "text": [
            "K = 6: \n",
            " 0 15  6 25 10 13\n",
            "33 24 11 14  5 26\n",
            "16  1 32  7 12  9\n",
            "31 34 23 20 27  4\n",
            "22 17  2 29  8 19\n",
            "35 30 21 18  3 28\n",
            "Time taken: 0.7745530605316162 seconds\n",
            "K = 8: \n",
            " 0 59 38 33 30 17  8 63\n",
            "37 34 31 60  9 62 29 16\n",
            "58  1 36 39 32 27 18  7\n",
            "35 48 41 26 61 10 15 28\n",
            "42 57  2 49 40 23  6 19\n",
            "47 50 45 54 25 20 11 14\n",
            "56 43 52  3 22 13 24  5\n",
            "51 46 55 44 53  4 21 12\n",
            "Time taken: 27.70588254928589 seconds\n"
          ]
        }
      ]
    },
    {
      "cell_type": "markdown",
      "source": [
        "New Backtracking"
      ],
      "metadata": {
        "id": "vQTUrmahc2E4"
      }
    },
    {
      "cell_type": "code",
      "source": [
        "import time\n",
        "\n",
        "def is_valid(x, y, board, board_size):\n",
        "    return 0 <= x < board_size and 0 <= y < board_size and board[x][y] == -1\n",
        "\n",
        "def print_board(board):\n",
        "    for row in board:\n",
        "        print(' '.join(str(cell).rjust(2, ' ') for cell in row))\n",
        "\n",
        "def knight_tour_backtracking(board_size):\n",
        "    board = [[-1 for _ in range(board_size)] for _ in range(board_size)]\n",
        "    moves_x = [2, 1, -1, -2, -2, -1, 1, 2]\n",
        "    moves_y = [1, 2, 2, 1, -1, -2, -2, -1]\n",
        "\n",
        "    start_time = time.time()  # Start time\n",
        "\n",
        "    def count_possible_moves(x, y):\n",
        "        count = 0\n",
        "        for i in range(8):\n",
        "            next_x = x + moves_x[i]\n",
        "            next_y = y + moves_y[i]\n",
        "            if is_valid(next_x, next_y, board, board_size):\n",
        "                count += 1\n",
        "        return count\n",
        "\n",
        "    def solve(x, y, move_count):\n",
        "        if move_count == board_size * board_size:\n",
        "            return True\n",
        "\n",
        "        possible_moves = []\n",
        "        for i in range(8):\n",
        "            next_x = x + moves_x[i]\n",
        "            next_y = y + moves_y[i]\n",
        "            if is_valid(next_x, next_y, board, board_size):\n",
        "                possible_moves.append((count_possible_moves(next_x, next_y), next_x, next_y))\n",
        "\n",
        "        possible_moves.sort(key=lambda move: move[0])\n",
        "\n",
        "        for move in possible_moves:\n",
        "            _, next_x, next_y = move\n",
        "            board[next_x][next_y] = move_count\n",
        "            if solve(next_x, next_y, move_count + 1):\n",
        "                return True\n",
        "            board[next_x][next_y] = -1\n",
        "        return False\n",
        "\n",
        "\n",
        "    board[0][0] = 0  # Starting from the first cell\n",
        "    if solve(0, 0, 1):\n",
        "        pass\n",
        "        print_board(board)\n",
        "    else:\n",
        "        print(\"No solution exists\")\n",
        "\n",
        "    end_time = time.time()  # End time\n",
        "    print(\"Time taken:\", end_time - start_time, \"seconds\")\n",
        "\n",
        "# Run the brute force solution\n",
        "print(\"K = 6: \")\n",
        "knight_tour_backtracking(6)\n",
        "\n",
        "print(\"K = 8: \")\n",
        "knight_tour_backtracking(8)"
      ],
      "metadata": {
        "id": "jteSejA_c4bc",
        "colab": {
          "base_uri": "https://localhost:8080/"
        },
        "outputId": "d58420b3-5991-4c78-d7dc-4570a7af65c7"
      },
      "execution_count": null,
      "outputs": [
        {
          "output_type": "stream",
          "name": "stdout",
          "text": [
            "K = 6: \n",
            " 0  9 18 25  6 11\n",
            "19 26  7 10 17 24\n",
            " 8  1 30 23 12  5\n",
            "35 20 27 14 31 16\n",
            " 2 29 22 33  4 13\n",
            "21 34  3 28 15 32\n",
            "Time taken: 0.0035233497619628906 seconds\n",
            "K = 8: \n",
            " 0 33  2 17 48 31 12 15\n",
            " 3 18 55 32 13 16 49 30\n",
            "56  1 34 47 54 51 14 11\n",
            "19  4 59 52 35 46 29 50\n",
            "40 57 36 45 60 53 10 25\n",
            " 5 20 41 58 37 26 63 28\n",
            "42 39 22  7 44 61 24  9\n",
            "21  6 43 38 23  8 27 62\n",
            "Time taken: 0.0010530948638916016 seconds\n"
          ]
        }
      ]
    }
  ]
}